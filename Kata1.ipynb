{
 "cells": [
  {
   "cell_type": "code",
   "execution_count": 1,
   "metadata": {},
   "outputs": [],
   "source": [
    "#Tuples\n",
    "\n",
    "stock_prices=[(\"APPLE\",200),('GOOGLE',100)]\n",
    "\n"
   ]
  },
  {
   "cell_type": "code",
   "execution_count": 11,
   "metadata": {},
   "outputs": [
    {
     "name": "stdout",
     "output_type": "stream",
     "text": [
      "Ticker:APPLE Price:200\n",
      "Ticker:GOOGLE Price:100\n"
     ]
    }
   ],
   "source": [
    "stock_prices # tuples in loop very good feature\n",
    "\n",
    "for ticker,prices in stock_prices:\n",
    "    print(f\"Ticker:{ticker} Price:{prices}\")\n"
   ]
  },
  {
   "cell_type": "code",
   "execution_count": 13,
   "metadata": {},
   "outputs": [],
   "source": [
    "work_hours =[('Abby',100),(\"Billy\",800),(\"Casssie\",900)]"
   ]
  },
  {
   "cell_type": "code",
   "execution_count": 33,
   "metadata": {},
   "outputs": [],
   "source": [
    "def employee_check():\n",
    "    current_max=0\n",
    "    employee_of_month=\"\"\n",
    "    \n",
    "    for employee,hours  in work_hours:\n",
    "        if hours>current_max:\n",
    "            current_max=hours\n",
    "            employee_of_month=employee\n",
    "    print(f\"Emplyee of month is : {current_max} {employee_of_month}\")"
   ]
  },
  {
   "cell_type": "code",
   "execution_count": 37,
   "metadata": {},
   "outputs": [
    {
     "name": "stdout",
     "output_type": "stream",
     "text": [
      "Emplyee of month is : 900 Casssie\n"
     ]
    }
   ],
   "source": [
    "employee_check()"
   ]
  },
  {
   "cell_type": "code",
   "execution_count": 40,
   "metadata": {},
   "outputs": [],
   "source": [
    "def employee_check2():\n",
    "    current_max=0\n",
    "    employee_of_month=\"\"\n",
    "    \n",
    "    for employee,hours  in work_hours:\n",
    "        if hours>current_max:\n",
    "            current_max=hours\n",
    "            employee_of_month=employee\n",
    "    return (current_max, employee_of_month)"
   ]
  },
  {
   "cell_type": "code",
   "execution_count": 47,
   "metadata": {},
   "outputs": [
    {
     "data": {
      "text/plain": [
       "tuple"
      ]
     },
     "execution_count": 47,
     "metadata": {},
     "output_type": "execute_result"
    }
   ],
   "source": [
    "employee_check2()\n",
    "\n",
    "type(employee_check2())"
   ]
  },
  {
   "cell_type": "code",
   "execution_count": null,
   "metadata": {},
   "outputs": [],
   "source": []
  }
 ],
 "metadata": {
  "kernelspec": {
   "display_name": "Python 3",
   "language": "python",
   "name": "python3"
  },
  "language_info": {
   "codemirror_mode": {
    "name": "ipython",
    "version": 3
   },
   "file_extension": ".py",
   "mimetype": "text/x-python",
   "name": "python",
   "nbconvert_exporter": "python",
   "pygments_lexer": "ipython3",
   "version": "3.8.3"
  }
 },
 "nbformat": 4,
 "nbformat_minor": 4
}
